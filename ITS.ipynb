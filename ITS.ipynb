{
 "cells": [
  {
   "cell_type": "code",
   "execution_count": 16,
   "metadata": {},
   "outputs": [],
   "source": [
    "import numpy as np\n",
    "import pandas as pd\n",
    "import itertools as itr"
   ]
  },
  {
   "cell_type": "code",
   "execution_count": 2,
   "metadata": {},
   "outputs": [],
   "source": [
    "# path\n",
    "transition = \"/Users/keiikegami/Dropbox/CREPE_tax/overall/transition.csv\"\n",
    "tax_param = \"/Users/keiikegami/Dropbox/CREPE_tax/credits/tax_params.csv\"\n",
    "basic_deduction = \"/Users/keiikegami/Dropbox/CREPE_tax/deductions/basic_deduction.csv\"\n",
    "employment_income = \"/Users/keiikegami/Dropbox/CREPE_tax/deductions/employment_income.csv\"\n",
    "exemption_for_dependents = \"/Users/keiikegami/Dropbox/CREPE_tax/deductions/exemption_for_dependents.csv\"\n",
    "f_window_deduction = \"/Users/keiikegami/Dropbox/CREPE_tax/deductions/f_window_deduction.csv\"\n",
    "old_age_deduction = \"/Users/keiikegami/Dropbox/CREPE_tax/deductions/old_age_deduction.csv\"\n",
    "pension_deduction = \"/Users/keiikegami/Dropbox/CREPE_tax/deductions/pension_deduction.csv\"\n",
    "spouse_deduction = \"/Users/keiikegami/Dropbox/CREPE_tax/deductions/spouse_deduction.csv\"\n",
    "spouse_special_deduction = \"/Users/keiikegami/Dropbox/CREPE_tax/deductions/spouse_special_deduction.csv\"\n",
    "working_student_deduction = \"/Users/keiikegami/Dropbox/CREPE_tax/deductions/working_student_deduction.csv\""
   ]
  },
  {
   "cell_type": "markdown",
   "metadata": {},
   "source": [
    "# parameter retrieve"
   ]
  },
  {
   "cell_type": "code",
   "execution_count": 3,
   "metadata": {},
   "outputs": [],
   "source": [
    "# one year\n",
    "def OneYearParam(year, file_paths, file_names):\n",
    "    transition_table = pd.read_csv(file_paths[0])\n",
    "    version = transition_table[transition_table[\"year\"] == year]\n",
    "    param_set = {}\n",
    "    \n",
    "    for (file_path, file_name) in zip(file_paths[1:], file_names[1:]):\n",
    "        file = pd.read_csv(file_path)\n",
    "        params = file[file[\"version\"] == version[\"%s\" %file_name].values[0]]\n",
    "        param_set[\"%s\" %file_name] = params\n",
    "        \n",
    "    return param_set\n",
    "\n",
    "# multiple years\n",
    "# years must be list\n",
    "def MultipleYearsParam(years, file_paths, file_names):\n",
    "    params = {}\n",
    "    for year in years:\n",
    "        param[year] = OneYearParam(year, file_paths, file_names)\n",
    "    return params"
   ]
  },
  {
   "cell_type": "code",
   "execution_count": 4,
   "metadata": {},
   "outputs": [],
   "source": [
    "file_paths = [transition, basic_deduction, tax_param, employment_income, exemption_for_dependents, f_window_deduction, old_age_deduction, pension_deduction, spouse_deduction, spouse_special_deduction, working_student_deduction]\n",
    "file_names = [\"transition\", \"basic_deduction\", \"tax_rates\", \"employment_income\", \"exemption_for_dependents\", \"f_window_deduction\", \"old_age_deduction\", \"pension_deduction\", \"spouse_deduction\", \"spouse_special_deduction\", \"working_student_deduction\"]\n",
    "year = 2000\n",
    "\n",
    "param_2000 = OneYearParam(year, file_paths, file_names)"
   ]
  },
  {
   "cell_type": "code",
   "execution_count": 7,
   "metadata": {},
   "outputs": [
    {
     "data": {
      "text/html": [
       "<div>\n",
       "<style scoped>\n",
       "    .dataframe tbody tr th:only-of-type {\n",
       "        vertical-align: middle;\n",
       "    }\n",
       "\n",
       "    .dataframe tbody tr th {\n",
       "        vertical-align: top;\n",
       "    }\n",
       "\n",
       "    .dataframe thead th {\n",
       "        text-align: right;\n",
       "    }\n",
       "</style>\n",
       "<table border=\"1\" class=\"dataframe\">\n",
       "  <thead>\n",
       "    <tr style=\"text-align: right;\">\n",
       "      <th></th>\n",
       "      <th>version</th>\n",
       "      <th>min_income</th>\n",
       "      <th>max_income</th>\n",
       "      <th>min_age</th>\n",
       "      <th>max_age</th>\n",
       "      <th>fixed_deduction</th>\n",
       "    </tr>\n",
       "  </thead>\n",
       "  <tbody>\n",
       "    <tr>\n",
       "      <th>28</th>\n",
       "      <td>v88</td>\n",
       "      <td>0</td>\n",
       "      <td>1000.0</td>\n",
       "      <td>0</td>\n",
       "      <td>65.0</td>\n",
       "      <td>NaN</td>\n",
       "    </tr>\n",
       "    <tr>\n",
       "      <th>29</th>\n",
       "      <td>v88</td>\n",
       "      <td>0</td>\n",
       "      <td>1000.0</td>\n",
       "      <td>65</td>\n",
       "      <td>NaN</td>\n",
       "      <td>50.0</td>\n",
       "    </tr>\n",
       "    <tr>\n",
       "      <th>30</th>\n",
       "      <td>v88</td>\n",
       "      <td>1000</td>\n",
       "      <td>NaN</td>\n",
       "      <td>0</td>\n",
       "      <td>65.0</td>\n",
       "      <td>NaN</td>\n",
       "    </tr>\n",
       "    <tr>\n",
       "      <th>31</th>\n",
       "      <td>v88</td>\n",
       "      <td>1000</td>\n",
       "      <td>NaN</td>\n",
       "      <td>65</td>\n",
       "      <td>NaN</td>\n",
       "      <td>NaN</td>\n",
       "    </tr>\n",
       "  </tbody>\n",
       "</table>\n",
       "</div>"
      ],
      "text/plain": [
       "   version  min_income  max_income  min_age  max_age  fixed_deduction\n",
       "28     v88           0      1000.0        0     65.0              NaN\n",
       "29     v88           0      1000.0       65      NaN             50.0\n",
       "30     v88        1000         NaN        0     65.0              NaN\n",
       "31     v88        1000         NaN       65      NaN              NaN"
      ]
     },
     "execution_count": 7,
     "metadata": {},
     "output_type": "execute_result"
    }
   ],
   "source": [
    "# このように条件分岐を含むので複数行のテーブルもあることに注意\n",
    "param_2000[\"old_age_deduction\"]"
   ]
  },
  {
   "cell_type": "markdown",
   "metadata": {},
   "source": [
    "# calculation\n",
    "\n",
    "全体の流れ\n",
    "1. householdのデータを読み込む\n",
    "2. timeごとに分割（してアクセス）\n",
    "3. timeごとにパラメータを呼び出して、全てのpolicy classのインスタンスを作成\n",
    "4. dummyごとに必要な控除を並列計算\n",
    "5. 最後に全ての家系に対して同時に控除後所得から所得税を計算\n"
   ]
  },
  {
   "cell_type": "markdown",
   "metadata": {},
   "source": [
    "## household"
   ]
  },
  {
   "cell_type": "code",
   "execution_count": 10,
   "metadata": {},
   "outputs": [],
   "source": [
    "# household tableみたいなのを作成するようにする\n",
    "# それに対して行列で一気に控除を計算できるようにして高速化"
   ]
  },
  {
   "cell_type": "code",
   "execution_count": 11,
   "metadata": {},
   "outputs": [],
   "source": [
    "sample = pd.DataFrame(np.array([[2,3],[4,5]]))\n",
    "sample[\"dependent_dummy\"] = [0,1]\n",
    "sample[\"widow_dummy\"] = [0,1]\n",
    "sample[\"old_dummy\"] = [1,1]\n",
    "sample[\"pension_dummy\"] = [0,1]\n",
    "sample[\"spouse_dummy\"] = [1,0]\n",
    "sample[\"workstu_dummy\"] = [0,1]"
   ]
  },
  {
   "cell_type": "code",
   "execution_count": 17,
   "metadata": {},
   "outputs": [
    {
     "data": {
      "text/plain": [
       "array([0, 1])"
      ]
     },
     "execution_count": 17,
     "metadata": {},
     "output_type": "execute_result"
    }
   ],
   "source": [
    "sample[\"dependent_dummy\"].values"
   ]
  },
  {
   "cell_type": "markdown",
   "metadata": {},
   "source": [
    "## tax policy"
   ]
  },
  {
   "cell_type": "code",
   "execution_count": 17,
   "metadata": {},
   "outputs": [],
   "source": [
    "# こっちは控除の種類ごとにparameterを入れたら条件分岐が定まるように関数を書く"
   ]
  },
  {
   "cell_type": "code",
   "execution_count": null,
   "metadata": {},
   "outputs": [],
   "source": [
    "# working student\n",
    "# こいつの引数は子供所得状況で、複数人子供がいればそいつらについてたす\n",
    "# でもそれをwideに保存するとNANが出すぎるので、\n",
    "# 子供の数でtableを分割しようかなという感じ→そのために勤労学生の数をhouseholdに与えておく\n",
    "class workingstudent:\n",
    "    \n",
    "    def __init__(self, df_workstu):\n",
    "        self.df = df_workstu\n",
    "        self.deduction = self.df[\"fixed_deduction\"]\n",
    "        self.total_income_threshold = self.df[\"max_total_income\"]\n",
    "        self.employ_income_threshold = self.df[\"employment_income\"]\n",
    "        \n",
    "    def Condition(self, total_inc, emp_inc):\n",
    "        \n",
    "        if total_inc < self.total_income_threshold:\n",
    "            \n",
    "            if emp_inc < self.employ_income_threshold:\n",
    "                \n",
    "                return self.deduction\n",
    "    \n",
    "    def CalDeduc(self, household):\n",
    "        \n",
    "        for num in np.unique(household[\"num_workstu\"].values):\n",
    "            df_num = self.df[df[\"num_workstu\"] == num]\n",
    "            \n",
    "            for i in range(num):\n",
    "                df_num[\"working_student_deduction\"] = df_num.apply()\n"
   ]
  },
  {
   "cell_type": "code",
   "execution_count": 9,
   "metadata": {},
   "outputs": [
    {
     "data": {
      "text/plain": [
       "array([2, 3, 4, 5])"
      ]
     },
     "execution_count": 9,
     "metadata": {},
     "output_type": "execute_result"
    }
   ],
   "source": [
    "np.unique(np.array([2,3,4,5,3,3,5,3,4,5,4,2]))"
   ]
  },
  {
   "cell_type": "code",
   "execution_count": 18,
   "metadata": {},
   "outputs": [],
   "source": [
    "# データはロングで入ってくる\n",
    "# 家計idが共通で、子供とか妻とかの収入とかが入っている。\n",
    "# 構成員全てについて同じ変数が聞かれている\n",
    "# 納税者ごとに控除がかかるかどうかが決まる（家計ごとではない）\n",
    "# まず家計を見てその構成員がそれぞれどの控除にかかっているのかを判別する関数が欲しい\n",
    "\n",
    "# 老年者、配偶者特別、寡婦控除（男女）、配偶者控除、扶養者控除\n",
    "\n",
    "# 所得と勤労状況を見て誰が誰の扶養になっているかを決める関数\n",
    "# relationsを見て各納税者がどの控除にひっかかっているかを判断する関数\n",
    "#この二つがあれば、あとは各控除のダミー変数でクエリして計算させる\n",
    "\n",
    "# 寡婦控除以外はほぼ全てandの条件なのでNAじゃないのおは各versionに一つしかない\n",
    "# 寡婦控除はorの条件があるのでその時はNAじゃないのが複数あるため注意"
   ]
  },
  {
   "cell_type": "markdown",
   "metadata": {},
   "source": [
    "# main part\n",
    "\n",
    "## household example data"
   ]
  },
  {
   "cell_type": "code",
   "execution_count": 169,
   "metadata": {},
   "outputs": [],
   "source": [
    "path=\"/Users/keiikegami/Desktop/CREPE/simulator/所得税コード/sample.csv\"\n",
    "data=pd.read_csv(path)\n",
    "#data.sort_values(by=[\"hh_id_use\"], ascending=True)"
   ]
  },
  {
   "cell_type": "code",
   "execution_count": 170,
   "metadata": {},
   "outputs": [],
   "source": [
    "rel = data[\"hh_relation\"].unique()\n",
    "mar = data[\"marry\"].unique()\n",
    "work = data[\"work_status\"].unique()\n",
    "hhid = data[\"hh_id_use\"].unique()\n",
    "\n",
    "#itr.product(rel, mar, work)"
   ]
  },
  {
   "cell_type": "code",
   "execution_count": 171,
   "metadata": {},
   "outputs": [],
   "source": [
    "rel = ['世帯主', '世帯主の配偶者', '子', 'その他', '他の親族', '兄弟姉妹', '世帯主の配偶者の父母', '孫',\n",
    "       '世帯主の父母', np.nan, '子の配偶者', '祖父母', '住み込みの雇人']"
   ]
  },
  {
   "cell_type": "code",
   "execution_count": 172,
   "metadata": {},
   "outputs": [],
   "source": [
    "# そのうち重要なのは\n",
    "main_relation = ['世帯主', '世帯主の配偶者', '子', '孫', '世帯主の父母']\n",
    "abnormal = np.array(list(set(rel) - set(main_relation)))"
   ]
  },
  {
   "cell_type": "code",
   "execution_count": 173,
   "metadata": {},
   "outputs": [
    {
     "data": {
      "text/plain": [
       "534727"
      ]
     },
     "execution_count": 173,
     "metadata": {},
     "output_type": "execute_result"
    }
   ],
   "source": [
    "len(hhid)"
   ]
  },
  {
   "cell_type": "code",
   "execution_count": 174,
   "metadata": {},
   "outputs": [],
   "source": [
    "# 真っ当な家族だけに絞る\n",
    "\n",
    "# 家族の人数で絞る\n",
    "famnum = data.groupby(\"hh_id_use\", as_index=False).size()\n",
    "normal_family_index = np.array(fam_num[fam_num <= 7].index.values)\n",
    "data = data[data[\"hh_id_use\"].isin(normal_family_index)]"
   ]
  },
  {
   "cell_type": "code",
   "execution_count": 175,
   "metadata": {},
   "outputs": [
    {
     "name": "stderr",
     "output_type": "stream",
     "text": [
      "/Users/keiikegami/anaconda3/lib/python3.6/site-packages/ipykernel_launcher.py:3: DeprecationWarning: elementwise == comparison failed; this will raise an error in the future.\n",
      "  This is separate from the ipykernel package so we can avoid doing imports until\n"
     ]
    }
   ],
   "source": [
    "# 家族の構成で絞る\n",
    "def check_compose(s):\n",
    "    if np.any(s.values in abnormal):\n",
    "        return 0\n",
    "    else:\n",
    "        return 1\n",
    "    \n",
    "check = data.groupby(\"hh_id_use\", as_index=False).agg({\"hh_relation\":check_compose})"
   ]
  },
  {
   "cell_type": "code",
   "execution_count": 176,
   "metadata": {},
   "outputs": [],
   "source": [
    "normal_family_index2 = check[check[\"hh_relation\"] == 1][\"hh_id_use\"].values\n",
    "data = data[data[\"hh_id_use\"].isin(normal_family_index2)]"
   ]
  },
  {
   "cell_type": "markdown",
   "metadata": {},
   "source": [
    "これで全ての家系が七人以下の構成で、hh_relationは\n",
    "\n",
    "['世帯主', '世帯主の配偶者', '子', '孫', '世帯主の父母']　しかいない\n",
    "\n",
    "パターン列挙が丸そう\n",
    "\n",
    "見たい控除は\n",
    "\n",
    "employment_income \n",
    "\n",
    "exemption_for_dependents\n",
    "\n",
    "f_window_deduction\n",
    "\n",
    "old_age_deduction\n",
    "\n",
    "pension_deduction\n",
    "\n",
    "spouse_deduction\n",
    "\n",
    "spouse_special_deduction\n",
    "\n",
    "working_student_deduction\n",
    "\n",
    "\n",
    "可能性があるところは全てflagを立てておくのが良さそう\n",
    "\n",
    "家族構成からわかる奴\n",
    "\n",
    "exemption_for_dependents\n",
    "\n",
    "spouse_deduction"
   ]
  },
  {
   "cell_type": "markdown",
   "metadata": {},
   "source": [
    "### 配偶者控除"
   ]
  },
  {
   "cell_type": "code",
   "execution_count": 177,
   "metadata": {},
   "outputs": [],
   "source": [
    "def check_spouse(s):\n",
    "    if \"世帯主の配偶者\" in s.values:\n",
    "        return 1\n",
    "    else:\n",
    "        return 0\n",
    "\n",
    "spouse = data.groupby(\"hh_id_use\").agg({\"hh_relation\":check_spouse})"
   ]
  },
  {
   "cell_type": "code",
   "execution_count": 178,
   "metadata": {},
   "outputs": [],
   "source": [
    "spouse = spouse.rename(columns={'hh_relation': 'spouse_deduction'})\n",
    "data = pd.merge(data, spouse, left_on='hh_id_use', right_index=True)\n",
    "data[\"spouse_deduction\"].where(data[\"hh_relation\"] == \"世帯主\", 0 , inplace=True)"
   ]
  },
  {
   "cell_type": "markdown",
   "metadata": {},
   "source": [
    "## 家計のサイズが2以上だったらexemption_for_depは1にしよう"
   ]
  },
  {
   "cell_type": "code",
   "execution_count": 181,
   "metadata": {},
   "outputs": [],
   "source": [
    "famnum = data.groupby(\"hh_id_use\", as_index=False).size()\n",
    "fam_num.columns = [\"fam_size\"]\n",
    "data = pd.merge(data, fam_num, left_on='hh_id_use', right_index=True)\n",
    "data[\"fam_size\"].where(data[\"fam_size\"] > 1, 0, inplace=True)\n",
    "data[\"fam_size\"].mask(data[\"fam_size\"] > 1, 1, inplace=True)\n",
    "data[\"fam_size\"].where(data[\"hh_relation\"] == \"世帯主\", 0 , inplace=True)"
   ]
  },
  {
   "cell_type": "code",
   "execution_count": 182,
   "metadata": {},
   "outputs": [
    {
     "data": {
      "text/html": [
       "<div>\n",
       "<style scoped>\n",
       "    .dataframe tbody tr th:only-of-type {\n",
       "        vertical-align: middle;\n",
       "    }\n",
       "\n",
       "    .dataframe tbody tr th {\n",
       "        vertical-align: top;\n",
       "    }\n",
       "\n",
       "    .dataframe thead th {\n",
       "        text-align: right;\n",
       "    }\n",
       "</style>\n",
       "<table border=\"1\" class=\"dataframe\">\n",
       "  <thead>\n",
       "    <tr style=\"text-align: right;\">\n",
       "      <th></th>\n",
       "      <th>birth_gengo</th>\n",
       "      <th>birth_year</th>\n",
       "      <th>birth_month</th>\n",
       "      <th>hh_relation</th>\n",
       "      <th>sex</th>\n",
       "      <th>age</th>\n",
       "      <th>marry</th>\n",
       "      <th>work_status</th>\n",
       "      <th>hh_id_use</th>\n",
       "      <th>spouse_deduction</th>\n",
       "      <th>exemption_for_dependents</th>\n",
       "      <th>exemption_for_dependents</th>\n",
       "    </tr>\n",
       "  </thead>\n",
       "  <tbody>\n",
       "    <tr>\n",
       "      <th>0</th>\n",
       "      <td>昭和</td>\n",
       "      <td>46.0</td>\n",
       "      <td>1.0</td>\n",
       "      <td>世帯主</td>\n",
       "      <td>female</td>\n",
       "      <td>44.0</td>\n",
       "      <td>NaN</td>\n",
       "      <td>主に仕事</td>\n",
       "      <td>50</td>\n",
       "      <td>0</td>\n",
       "      <td>0</td>\n",
       "      <td>0</td>\n",
       "    </tr>\n",
       "    <tr>\n",
       "      <th>1</th>\n",
       "      <td>昭和</td>\n",
       "      <td>37.0</td>\n",
       "      <td>10.0</td>\n",
       "      <td>世帯主</td>\n",
       "      <td>male</td>\n",
       "      <td>52.0</td>\n",
       "      <td>配偶者あり</td>\n",
       "      <td>主に仕事</td>\n",
       "      <td>125</td>\n",
       "      <td>0</td>\n",
       "      <td>0</td>\n",
       "      <td>0</td>\n",
       "    </tr>\n",
       "    <tr>\n",
       "      <th>2</th>\n",
       "      <td>NaN</td>\n",
       "      <td>NaN</td>\n",
       "      <td>NaN</td>\n",
       "      <td>世帯主</td>\n",
       "      <td>male</td>\n",
       "      <td>NaN</td>\n",
       "      <td>NaN</td>\n",
       "      <td>NaN</td>\n",
       "      <td>183</td>\n",
       "      <td>0</td>\n",
       "      <td>0</td>\n",
       "      <td>0</td>\n",
       "    </tr>\n",
       "    <tr>\n",
       "      <th>3</th>\n",
       "      <td>昭和</td>\n",
       "      <td>43.0</td>\n",
       "      <td>7.0</td>\n",
       "      <td>世帯主</td>\n",
       "      <td>female</td>\n",
       "      <td>47.0</td>\n",
       "      <td>NaN</td>\n",
       "      <td>主に仕事</td>\n",
       "      <td>325</td>\n",
       "      <td>0</td>\n",
       "      <td>0</td>\n",
       "      <td>0</td>\n",
       "    </tr>\n",
       "    <tr>\n",
       "      <th>4</th>\n",
       "      <td>昭和</td>\n",
       "      <td>61.0</td>\n",
       "      <td>8.0</td>\n",
       "      <td>世帯主</td>\n",
       "      <td>female</td>\n",
       "      <td>29.0</td>\n",
       "      <td>未婚</td>\n",
       "      <td>NaN</td>\n",
       "      <td>468</td>\n",
       "      <td>0</td>\n",
       "      <td>0</td>\n",
       "      <td>0</td>\n",
       "    </tr>\n",
       "  </tbody>\n",
       "</table>\n",
       "</div>"
      ],
      "text/plain": [
       "  birth_gengo  birth_year  birth_month hh_relation     sex   age  marry  \\\n",
       "0          昭和        46.0          1.0         世帯主  female  44.0    NaN   \n",
       "1          昭和        37.0         10.0         世帯主    male  52.0  配偶者あり   \n",
       "2         NaN         NaN          NaN         世帯主    male   NaN    NaN   \n",
       "3          昭和        43.0          7.0         世帯主  female  47.0    NaN   \n",
       "4          昭和        61.0          8.0         世帯主  female  29.0     未婚   \n",
       "\n",
       "  work_status  hh_id_use  spouse_deduction  exemption_for_dependents  \\\n",
       "0        主に仕事         50                 0                         0   \n",
       "1        主に仕事        125                 0                         0   \n",
       "2         NaN        183                 0                         0   \n",
       "3        主に仕事        325                 0                         0   \n",
       "4         NaN        468                 0                         0   \n",
       "\n",
       "   exemption_for_dependents  \n",
       "0                         0  \n",
       "1                         0  \n",
       "2                         0  \n",
       "3                         0  \n",
       "4                         0  "
      ]
     },
     "execution_count": 182,
     "metadata": {},
     "output_type": "execute_result"
    }
   ],
   "source": [
    "data = data.rename(columns={\"fam_size\":\"exemption_for_dependents\"})\n",
    "data.head()"
   ]
  },
  {
   "cell_type": "code",
   "execution_count": null,
   "metadata": {},
   "outputs": [],
   "source": []
  }
 ],
 "metadata": {
  "kernelspec": {
   "display_name": "Python 3",
   "language": "python",
   "name": "python3"
  },
  "language_info": {
   "codemirror_mode": {
    "name": "ipython",
    "version": 3
   },
   "file_extension": ".py",
   "mimetype": "text/x-python",
   "name": "python",
   "nbconvert_exporter": "python",
   "pygments_lexer": "ipython3",
   "version": "3.6.8"
  }
 },
 "nbformat": 4,
 "nbformat_minor": 2
}
